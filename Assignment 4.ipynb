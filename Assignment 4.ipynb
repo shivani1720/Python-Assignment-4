{
 "cells": [
  {
   "cell_type": "code",
   "execution_count": null,
   "metadata": {},
   "outputs": [],
   "source": [
    "\"\"\"\"\n",
    "1.1 Write a Python Program(with class concepts) to find the area of the triangle using the below\n",
    "formula.\n",
    "\n",
    "area = (s*(s-a)*(s-b)*(s-c)) ** 0.5\n",
    "Function to take the length of the sides of triangle from user should be defined in the parent\n",
    "class and function to calculate the area should be defined in subclass.\n",
    "\n",
    "\"\"\"\""
   ]
  },
  {
   "cell_type": "code",
   "execution_count": 10,
   "metadata": {},
   "outputs": [
    {
     "name": "stdout",
     "output_type": "stream",
     "text": [
      "Enter the length of side1: 5\n",
      "Enter the length of side2: 6\n",
      "Enter the length of side3: 7\n",
      "Area of the traingle with the sides 5,6,7 is 14.696938456699069\n"
     ]
    }
   ],
   "source": [
    "class triangle:\n",
    "    def __init__(self,a,b,c):\n",
    "        self.a = float(a)\n",
    "        self.b = float(b)\n",
    "        self.c = float(c)\n",
    "a = int(input(\"Enter the length of side1: \"))\n",
    "b = int(input(\"Enter the length of side2: \"))\n",
    "c = int(input(\"Enter the length of side3: \"))\n",
    "\n",
    "class area(triangle):\n",
    "    def __init__(self,a,b,c, *args):\n",
    "        super(triangle).__init__(*args)\n",
    "        \n",
    "    def get_area(self):\n",
    "        s = (a+b+c) / 2\n",
    "        return (s*(s-a)*(s-b)*(s-c)) ** 0.5\n",
    "    \n",
    "    \n",
    "t = area(a,b,c)\n",
    "print(\"Area of the traingle with the sides {},{},{} is {}\".format(a,b,c,t.get_area()))\n",
    "    "
   ]
  },
  {
   "cell_type": "code",
   "execution_count": 26,
   "metadata": {},
   "outputs": [
    {
     "name": "stdout",
     "output_type": "stream",
     "text": [
      "Enter words, separated by spaces: Shivani, Sharma, Priya\n",
      "Minimum length of words to keep: 6\n",
      "Words longer than 6 are Shivani,, Sharma,.\n"
     ]
    }
   ],
   "source": [
    "#1.2 Write a function filter_long_words() that takes a list of words and an integer n and returns\n",
    "#the list of words that are longer than n.\n",
    "\n",
    "def filter_long_words(wordlist,integer_N):\n",
    "    return(words for words in wordlist if len(words) >= integer_N)\n",
    "\n",
    "def inputs():\n",
    "    words = input(\"Enter words, separated by spaces: \").split()\n",
    "    integer_N = int(input(\"Minimum length of words to keep: \"))\n",
    "    print(\"Words longer than {} are {}.\".format(integer_N,', '.join(filter_long_words(words, integer_N))))\n",
    "    \n",
    "inputs()    \n",
    "    "
   ]
  },
  {
   "cell_type": "code",
   "execution_count": 27,
   "metadata": {},
   "outputs": [
    {
     "name": "stdout",
     "output_type": "stream",
     "text": [
      "[7, 6, 5]\n"
     ]
    }
   ],
   "source": [
    "#2.1 Write a Python program using function concept that maps list of words into a list of integers\n",
    "#representing the lengths of the corresponding words.\n",
    "\n",
    "def longestword(listofwords):\n",
    "    wordlen = []\n",
    "    for i in listofwords:\n",
    "        wordlen.append(len(i))\n",
    "    return wordlen\n",
    "result = longestword([\"Shivani\", \"Sharma\", \"Ching\"])\n",
    "print(result)"
   ]
  },
  {
   "cell_type": "code",
   "execution_count": 3,
   "metadata": {},
   "outputs": [
    {
     "name": "stdout",
     "output_type": "stream",
     "text": [
      "Enter a character: e\n",
      "True\n"
     ]
    }
   ],
   "source": [
    "#2.2 Write a Python function which takes a character (i.e. a string of length 1) and returns True if\n",
    "#it is a vowel, False otherwise.\n",
    "\n",
    "def vowels(list1):\n",
    "    \n",
    "    m = input(\"Enter a character: \")\n",
    "    if m in list1:\n",
    "        print(\"True\")\n",
    "    else:\n",
    "        print(\"False\")\n",
    "vowels([\"a\",\"e\",\"i\",\"o\",\"u\",\"A\",\"E\",\"I\",\"O\",\"U\"])    "
   ]
  },
  {
   "cell_type": "code",
   "execution_count": null,
   "metadata": {},
   "outputs": [],
   "source": [
    "\n",
    "\n"
   ]
  },
  {
   "cell_type": "code",
   "execution_count": null,
   "metadata": {},
   "outputs": [],
   "source": []
  }
 ],
 "metadata": {
  "kernelspec": {
   "display_name": "Python 3",
   "language": "python",
   "name": "python3"
  },
  "language_info": {
   "codemirror_mode": {
    "name": "ipython",
    "version": 3
   },
   "file_extension": ".py",
   "mimetype": "text/x-python",
   "name": "python",
   "nbconvert_exporter": "python",
   "pygments_lexer": "ipython3",
   "version": "3.8.5"
  }
 },
 "nbformat": 4,
 "nbformat_minor": 4
}
